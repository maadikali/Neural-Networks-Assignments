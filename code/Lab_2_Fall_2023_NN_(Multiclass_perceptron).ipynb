{
  "nbformat": 4,
  "nbformat_minor": 0,
  "metadata": {
    "colab": {
      "provenance": []
    },
    "kernelspec": {
      "name": "python3",
      "display_name": "Python 3"
    },
    "language_info": {
      "name": "python"
    }
  },
  "cells": [
    {
      "cell_type": "markdown",
      "source": [
        "**Neural Networks- Fall 2023**\n",
        "\n",
        "****\n",
        "\n",
        "**Laboratory No. 2:**\n",
        "\n",
        "**One-layer neural network for multiclass classification**\n",
        "\n",
        "IRIS multiclass classification\n",
        "\n",
        "In this laboratory, you are asked to implement a one-layer perceptron which can classify IRIS dataset into three different species."
      ],
      "metadata": {
        "id": "GOSrhn8gIyOS"
      }
    },
    {
      "cell_type": "code",
      "source": [
        "import numpy as np\n",
        "import pandas as pd\n",
        "from sklearn import datasets"
      ],
      "metadata": {
        "id": "oSaDPmyGJsSU"
      },
      "execution_count": 77,
      "outputs": []
    },
    {
      "cell_type": "code",
      "source": [
        "# Load the Iris dataset\n",
        "df = pd.read_csv('https://archive.ics.uci.edu/ml/machine-learning-databases/iris/iris.data', header=None)\n",
        "X = df.iloc[:, :-1].values  # Extract all columns except the last one as features\n",
        "y = df.iloc[:, -1]   # Extract the last column as the target variable\n",
        "y = np.where(y == 'Iris-setosa', 0, np.where(y == 'Iris-versicolor', 1, 2))"
      ],
      "metadata": {
        "id": "YBCJ-x41-C7K"
      },
      "execution_count": 78,
      "outputs": []
    },
    {
      "cell_type": "code",
      "metadata": {
        "id": "B2IE0AMnLNBt"
      },
      "source": [
        "class Perceptron(object):\n",
        "\n",
        "    def __init__(self, no_of_inputs, no_of_outputs, epochs=100, learning_rate=0.01):\n",
        "        self.epochs = epochs\n",
        "        self.learning_rate = learning_rate\n",
        "        self.weights = np.random.randn(no_of_inputs, 3)\n",
        "        self.training_error = []\n",
        "        self.bias = np.random.randn(no_of_outputs)\n",
        "\n",
        "\n",
        "    def softmax(self, z):\n",
        "        exp_z = np.exp(z)\n",
        "        softmax_z = exp_z / exp_z.sum(axis=0, keepdims=True)\n",
        "        return softmax_z\n",
        "\n",
        "    def one_hot_encode(self, label):\n",
        "      encoded_label = np.zeros(self.weights.shape[1])\n",
        "      encoded_label[label] = 1\n",
        "      return encoded_label\n",
        "\n",
        "\n",
        "\n",
        "    def predict(self, inputs):\n",
        "     net = np.dot(inputs, self.weights) + self.bias\n",
        "     return self.softmax(net)\n",
        "\n",
        "\n",
        "    def train(self, training_inputs, training_labels):\n",
        "        for _ in range(self.epochs):\n",
        "            error = 0\n",
        "            for inputs, label in zip(training_inputs, training_labels):\n",
        "                prediction = self.predict(inputs)\n",
        "                label_new = self.one_hot_encode(label)\n",
        "\n",
        "                loss = label_new - prediction\n",
        "                self.weights[1:] += self.learning_rate * loss * inputs\n",
        "                self.weights[0] += self.learning_rate * loss\n",
        "                error += np.sum((label_new - prediction) ** 2)\n",
        "            self.training_error.append(error)\n",
        "\n",
        "# Hyperparameters\n",
        "input_size = X.shape[1]\n",
        "output_size = 3\n",
        "learning_rate = 0.01\n",
        "epochs = 1000\n",
        "\n",
        "\n",
        "perceptron = Perceptron(input_size, output_size, epochs=epochs, learning_rate=learning_rate)\n",
        "\n"
      ],
      "execution_count": 79,
      "outputs": []
    },
    {
      "cell_type": "code",
      "source": [
        "print(df.head())\n",
        "print(\"\\n\\n\")\n",
        "print(df.tail())"
      ],
      "metadata": {
        "colab": {
          "base_uri": "https://localhost:8080/"
        },
        "id": "CeviGy4OoZOU",
        "outputId": "dbeb9373-ddce-472f-aa4b-e3ef78a9267c"
      },
      "execution_count": 80,
      "outputs": [
        {
          "output_type": "stream",
          "name": "stdout",
          "text": [
            "     0    1    2    3            4\n",
            "0  5.1  3.5  1.4  0.2  Iris-setosa\n",
            "1  4.9  3.0  1.4  0.2  Iris-setosa\n",
            "2  4.7  3.2  1.3  0.2  Iris-setosa\n",
            "3  4.6  3.1  1.5  0.2  Iris-setosa\n",
            "4  5.0  3.6  1.4  0.2  Iris-setosa\n",
            "\n",
            "\n",
            "\n",
            "       0    1    2    3               4\n",
            "145  6.7  3.0  5.2  2.3  Iris-virginica\n",
            "146  6.3  2.5  5.0  1.9  Iris-virginica\n",
            "147  6.5  3.0  5.2  2.0  Iris-virginica\n",
            "148  6.2  3.4  5.4  2.3  Iris-virginica\n",
            "149  5.9  3.0  5.1  1.8  Iris-virginica\n"
          ]
        }
      ]
    },
    {
      "cell_type": "markdown",
      "source": [
        "After training the model, make predictions on the entire dataset and then calculate accuracy as the percentage of correct predictions and error as MAE (Mean Absolute Error)."
      ],
      "metadata": {
        "id": "pOoXUUvVsEJT"
      }
    },
    {
      "cell_type": "code",
      "source": [
        "# Make predictions on the entire dataset\n",
        "predictions = perceptron.predict(X)\n",
        "\n",
        "# Convert predictions to class labels\n",
        "predicted_labels = np.argmax(predictions, axis=1)\n",
        "\n",
        "# Accuracy\n",
        "accuracy = np.mean(predicted_labels == y) * 100\n",
        "print(f\"Accuracy: {accuracy:.2f}%\")\n",
        "\n",
        "# Mean Absolute Error (MAE)\n",
        "mae = np.mean(np.abs(predicted_labels - y))\n",
        "print(f\"Mean Absolute Error (MAE): {mae:.2f}\")\n"
      ],
      "metadata": {
        "id": "-ek_mu_3sNu8",
        "colab": {
          "base_uri": "https://localhost:8080/"
        },
        "outputId": "695c03dc-1a77-4d16-e861-b9697c43dfcd"
      },
      "execution_count": 81,
      "outputs": [
        {
          "output_type": "stream",
          "name": "stdout",
          "text": [
            "Accuracy: 97.33%\n",
            "Mean Absolute Error (MAE): 0.03\n"
          ]
        }
      ]
    }
  ]
}
